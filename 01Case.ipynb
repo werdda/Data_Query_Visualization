{
 "cells": [
  {
   "cell_type": "code",
   "execution_count": 28,
   "metadata": {},
   "outputs": [],
   "source": [
    "from pyspark.sql import SparkSession\n",
    "from pyspark.sql.functions import * \n",
    "from pyspark.ml.feature import VectorAssembler, StandardScaler\n",
    "from pyspark.ml.clustering import KMeans"
   ]
  },
  {
   "cell_type": "code",
   "execution_count": 29,
   "metadata": {},
   "outputs": [],
   "source": [
    "spark = SparkSession.builder.getOrCreate()"
   ]
  },
  {
   "cell_type": "code",
   "execution_count": 30,
   "metadata": {},
   "outputs": [],
   "source": [
    "MsVictim = spark.read.csv(\"MsVictim.csv\", header=True, inferSchema=True)\n",
    "MsPoliceOffice = spark.read.csv(\"MsPoliceOffice.csv\", header=True, inferSchema=True)\n",
    "MsPolice = spark.read.csv(\"MsPolice.csv\", header=True, inferSchema=True)\n",
    "MsCaseType = spark.read.csv(\"MsCaseType.csv\", header=True, inferSchema=True)\n",
    "CaseHeader = spark.read.csv(\"CaseHeader.csv\", header=True, inferSchema=True)\n",
    "CaseDetail = spark.read.csv(\"CaseDetail.csv\", header=True, inferSchema=True)"
   ]
  },
  {
   "cell_type": "code",
   "execution_count": 31,
   "metadata": {},
   "outputs": [],
   "source": [
    "MsVictim.registerTempTable(\"MsVictim\")\n",
    "MsPoliceOffice.registerTempTable(\"MsPoliceOffice\")\n",
    "MsPolice.registerTempTable(\"MsPolice\")\n",
    "MsCaseType.registerTempTable(\"MsCaseType\")\n",
    "CaseHeader.registerTempTable(\"CaseHeader\")\n",
    "CaseDetail.registerTempTable(\"CaseDetail\")"
   ]
  },
  {
   "cell_type": "code",
   "execution_count": 34,
   "metadata": {},
   "outputs": [
    {
     "name": "stdout",
     "output_type": "stream",
     "text": [
      "+--------------+------------------+\n",
      "|PoliceOfficeID|PoliceOfficeRegion|\n",
      "+--------------+------------------+\n",
      "|             1|          New York|\n",
      "|             2|        California|\n",
      "|             3|          Michigan|\n",
      "|             4|            Oregon|\n",
      "|             5|          Kentucky|\n",
      "|             6|              Ohio|\n",
      "|             7|            Nevada|\n",
      "|             8|          Colorado|\n",
      "|             9|           Alabama|\n",
      "|            10|          Lousiana|\n",
      "|            11|           Florida|\n",
      "|            12|        New Jersey|\n",
      "|            13|        New Mexico|\n",
      "|            14|          Missouri|\n",
      "|            15|             Texas|\n",
      "|            16|           Arizona|\n",
      "|            17|        Washington|\n",
      "|            18|            Kansas|\n",
      "|            19|          Nebraska|\n",
      "|            20|         Wisconsin|\n",
      "+--------------+------------------+\n",
      "\n"
     ]
    }
   ],
   "source": [
    "MsPoliceOffice.show()"
   ]
  },
  {
   "cell_type": "code",
   "execution_count": 48,
   "metadata": {},
   "outputs": [
    {
     "name": "stdout",
     "output_type": "stream",
     "text": [
      "+------------------+-----------+\n",
      "|PoliceOfficeRegion|Total Cases|\n",
      "+------------------+-----------+\n",
      "|        California|         30|\n",
      "|           Florida|         28|\n",
      "|           Arizona|         28|\n",
      "|          Nebraska|         28|\n",
      "|            Oregon|         23|\n",
      "+------------------+-----------+\n",
      "\n"
     ]
    }
   ],
   "source": [
    "result = spark.sql(\"\"\"\n",
    "\n",
    "    SELECT \n",
    "    \n",
    "    PoliceOfficeRegion,\n",
    "    COUNT(ch.CaseID) as `Total Cases`\n",
    "    \n",
    "    FROM CaseHeader ch \n",
    "    JOIN CaseDetail cd \n",
    "    ON ch.CaseID = cd.CaseID\n",
    "    JOIN MsPolice as mp \n",
    "    ON cd.PoliceID = mp.PoliceID\n",
    "    JOIN MsPoliceOffice mpo\n",
    "    ON mp.PoliceOfficeID = mpo.PoliceOfficeID\n",
    "    WHERE CaseStatus = \"On Going\"\n",
    "    GROUP BY PoliceOfficeRegion\n",
    "    ORDER BY `Total Cases` DESC\n",
    "    LIMIT 5\n",
    "    \n",
    "\n",
    "\n",
    "\"\"\")\n",
    "\n",
    "result.show()"
   ]
  },
  {
   "cell_type": "code",
   "execution_count": 49,
   "metadata": {},
   "outputs": [],
   "source": [
    "import matplotlib.pyplot as plt"
   ]
  },
  {
   "cell_type": "code",
   "execution_count": 50,
   "metadata": {},
   "outputs": [],
   "source": [
    "df_result = result.toPandas()"
   ]
  },
  {
   "cell_type": "code",
   "execution_count": 59,
   "metadata": {},
   "outputs": [
    {
     "data": {
      "image/png": "[encoded data removed]",
      "text/plain": [
       "<Figure size 432x288 with 1 Axes>"
      ]
     },
     "metadata": {
      "needs_background": "light"
     },
     "output_type": "display_data"
    }
   ],
   "source": [
    "plt.title(\"Top 5 Police Office Region with Most On Going Cases\")\n",
    "plt.xlabel(\"Police Office Region\")\n",
    "plt.ylabel(\"Number of Cases\")\n",
    "plt.bar(df_result[\"PoliceOfficeRegion\"], df_result[\"Total Cases\"])\n",
    "\n",
    "plt.show()"
   ]
  },
  {
   "cell_type": "code",
   "execution_count": 83,
   "metadata": {},
   "outputs": [
    {
     "name": "stdout",
     "output_type": "stream",
     "text": [
      "+---------+-------------+\n",
      "|Case Year|Total Victims|\n",
      "+---------+-------------+\n",
      "|     2018|           56|\n",
      "|     2019|           41|\n",
      "|     2020|           74|\n",
      "|     2021|           61|\n",
      "+---------+-------------+\n",
      "\n"
     ]
    }
   ],
   "source": [
    "result = spark.sql(\"\"\"\n",
    "\n",
    "    SELECT \n",
    "    \n",
    "    YEAR(CaseDate) as `Case Year`,\n",
    "    COUNT(VictimID) as `Total Victims`\n",
    "    \n",
    "    FROM MsVictim mv\n",
    "    JOIN CaseHeader ch\n",
    "    ON mv.CaseID = ch.CaseID\n",
    "    JOIN CaseDetail cd\n",
    "    ON ch.CaseID = cd.CaseID\n",
    "    JOIN MsPolice mp\n",
    "    ON cd.PoliceID = mp.PoliceID\n",
    "    JOIN MsPoliceOffice mpo\n",
    "    ON mp.PoliceOfficeID = mpo.PoliceOfficeID\n",
    "    WHERE PoliceOfficeRegion in (\"Nevada\", \"Washington\", \"Oregon\", \"California\")\n",
    "    GROUP BY `Case Year`\n",
    "    \n",
    "\n",
    "\"\"\")\n",
    "\n",
    "result.show()"
   ]
  },
  {
   "cell_type": "code",
   "execution_count": 84,
   "metadata": {},
   "outputs": [],
   "source": [
    "df_result = result.toPandas()"
   ]
  },
  {
   "cell_type": "code",
   "execution_count": 88,
   "metadata": {},
   "outputs": [
    {
     "data": {
      "image/png": "[encoded data removed]",
      "text/plain": [
       "<Figure size 432x288 with 1 Axes>"
      ]
     },
     "metadata": {
      "needs_background": "light"
     },
     "output_type": "display_data"
    }
   ],
   "source": [
    "plt.title(\"Number of Victim for each Year\")\n",
    "plt.ylabel(\"Number of Victim\")\n",
    "plt.xlabel(\"Year\")\n",
    "plt.plot(df_result[\"Case Year\"], df_result[\"Total Victims\"])\n",
    "plt.xticks(df_result[\"Case Year\"])\n",
    "\n",
    "plt.show()"
   ]
  },
  {
   "cell_type": "code",
   "execution_count": 131,
   "metadata": {},
   "outputs": [
    {
     "name": "stdout",
     "output_type": "stream",
     "text": [
      "+------------+-------------+\n",
      "|  Crime Type|Total Victims|\n",
      "+------------+-------------+\n",
      "|Misdemeanors|           98|\n",
      "|   Violation|          133|\n",
      "|    Felonies|          269|\n",
      "+------------+-------------+\n",
      "\n"
     ]
    }
   ],
   "source": [
    "result = spark.sql(\"\"\"\n",
    "\n",
    "    SELECT \n",
    "    \n",
    "    `Crime Type`,\n",
    "    `Total Victims`\n",
    "    \n",
    "    FROM ( \n",
    "    \n",
    "    SELECT\n",
    "    \n",
    "    COUNT(VictimID) as `Total Victims`,\n",
    "    \n",
    "    CASE \n",
    "        WHEN CaseTypeName IN (\"Robbery\", \"Drug\", \"Burglary\") THEN \"Violation\"\n",
    "        WHEN CaseTypeName IN (\"Fraud and Scam\", \"Family Violance\", \"White-Colar Crime\") THEN \"Misdemeanors\"\n",
    "        ELSE \"Felonies\"\n",
    "    END AS `Crime Type`\n",
    "    \n",
    "    FROM MsCaseType mt\n",
    "    JOIN CaseHeader ch\n",
    "    ON mt.CaseTypeID = ch.CaseTypeID\n",
    "    JOIN MsVictim mv\n",
    "    ON ch.CaseID = mv.CaseID\n",
    "    GROUP BY `Crime Type`\n",
    "    \n",
    "    )AS x\n",
    "    \n",
    "    WHERE `Total Victims` > 50\n",
    "    \n",
    "\n",
    "\"\"\")\n",
    "\n",
    "result.show()\n",
    "\n"
   ]
  },
  {
   "cell_type": "code",
   "execution_count": 132,
   "metadata": {},
   "outputs": [],
   "source": [
    "df_result = result.toPandas()"
   ]
  },
  {
   "cell_type": "code",
   "execution_count": 133,
   "metadata": {},
   "outputs": [
    {
     "data": {
      "image/png": "[encoded data removed]",
      "text/plain": [
       "<Figure size 432x288 with 1 Axes>"
      ]
     },
     "metadata": {},
     "output_type": "display_data"
    }
   ],
   "source": [
    "plt.title(\"Crime Type Percentage\")\n",
    "plt.pie(df_result[\"Total Victims\"], labels=df_result[\"Crime Type\"], autopct=\"%1.f%%\")\n",
    "plt.show()"
   ]
  },
  {
   "cell_type": "code",
   "execution_count": null,
   "metadata": {},
   "outputs": [],
   "source": [
    "\n"
   ]
  }
 ],
 "metadata": {
  "kernelspec": {
   "display_name": "Python 3",
   "language": "python",
   "name": "python3"
  },
  "language_info": {
   "codemirror_mode": {
    "name": "ipython",
    "version": 3
   },
   "file_extension": ".py",
   "mimetype": "text/x-python",
   "name": "python",
   "nbconvert_exporter": "python",
   "pygments_lexer": "ipython3",
   "version": "3.7.4"
  }
 },
 "nbformat": 4,
 "nbformat_minor": 2
}
